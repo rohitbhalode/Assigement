{
 "cells": [
  {
   "cell_type": "markdown",
   "id": "643aad4c",
   "metadata": {},
   "source": [
    "    \n",
    " #  Assignment 7\n",
    " "
   ]
  },
  {
   "cell_type": "markdown",
   "id": "1146f720",
   "metadata": {},
   "source": [
    "Q.1. Create two int type variables, apply addition, subtraction, division and multiplications\n",
    "and store the results in variables. Then print the data in the following format by calling the\n",
    "variables:"
   ]
  },
  {
   "cell_type": "markdown",
   "id": "58c3120f",
   "metadata": {},
   "source": [
    "First variable is __ & second variable is __.\n",
    "Addition: __ + __ = __\n",
    "Subtraction: __ - __ = __\n",
    "Multiplication: __ * __ = __\n",
    "Division: __ / __ = __"
   ]
  },
  {
   "cell_type": "code",
   "execution_count": 4,
   "id": "8f6df30c",
   "metadata": {},
   "outputs": [
    {
     "name": "stdout",
     "output_type": "stream",
     "text": [
      "First variable is  20 & second variable is  10 .\n",
      "Addition:  20 + 10 = 30\n",
      "Substraction:  20 - 10 = 10\n",
      "Multiplication:  20 * 10 = 200\n",
      "Division:  20 / 10 = 2.0\n"
     ]
    }
   ],
   "source": [
    "a=20\n",
    "b=10\n",
    "print(\"First variable is \",a,\"& second variable is \",b,\".\")\n",
    "print(\"Addition: \",a,\"+\",b,\"=\",(a+b))\n",
    "print(\"Substraction: \",a,\"-\",b,\"=\",(a-b))\n",
    "print(\"Multiplication: \",a,\"*\",b,\"=\",(a*b))\n",
    "print(\"Division: \",a,\"/\",b,\"=\",(a/b))\n"
   ]
  },
  {
   "cell_type": "markdown",
   "id": "1e233db3",
   "metadata": {},
   "source": [
    "Q.2. What is the difference between the following operators:\n",
    "\n",
    "\n",
    "(i) ‘/’ & ‘//’\n",
    "(ii) ‘**’ & ‘^’"
   ]
  },
  {
   "cell_type": "raw",
   "id": "764732d7",
   "metadata": {},
   "source": [
    "(i)-->>\n",
    "'/' --> This is division operator it just simple divide of two number and give the original answer in the form of float\n",
    "'//'  --> This is floor division operator which give floor value of final solution obtained from the division.\n",
    "\n",
    "(ii) -->>\n",
    "\n",
    "'**' -->  This operator is exponentiation operator \n",
    "for example :\n",
    "2**5 ---> (2*2*2*2*2)\n",
    "\n",
    "'^' --> This XOR operator do The ^ operator compares each bit and set it to 1 if only one is 1, otherwise \n",
    "        (if both are 1 or both are 0) it is set to 0.\n",
    "for example: \n",
    "    \n",
    "6 = 0000000000000110\n",
    "3 = 0000000000000011\n",
    "--------------------\n",
    "5 = 0000000000000101\n"
   ]
  },
  {
   "cell_type": "markdown",
   "id": "c23fe82a",
   "metadata": {},
   "source": [
    "Q.3. List the logical operators."
   ]
  },
  {
   "cell_type": "markdown",
   "id": "8b1e5ad7",
   "metadata": {},
   "source": [
    "1) AND ---> AND logical operator True if the both the operand are True. Syntax ----> x and y\n",
    "\n",
    "\n",
    "2) OR  ---> OR logical operator True if the either of the operand are True. Syntax --> x or y\n",
    "\n",
    "\n",
    "3) NOT ---> NOT logical oprator True if the operand are False. Syntax -->  not x\n"
   ]
  },
  {
   "cell_type": "markdown",
   "id": "9b70daba",
   "metadata": {},
   "source": [
    "Q.4. Explain right shift operator and left shift operator with examples."
   ]
  },
  {
   "cell_type": "code",
   "execution_count": null,
   "id": "988c7a3c",
   "metadata": {},
   "outputs": [],
   "source": [
    "Right Shift Operator:\n",
    "    The bitwise right shift operator in python shifts the bits of the binary representation of the input number to the right side by a specified number of places.\n",
    "    The empty bits created by shifting the bits are filled by 0s.\n",
    "    The syntax for the bitwise right shift is a >> n. Here ‘a’ is the number whose bits will be shifted by ‘n’ places to the right.\n",
    "Light Shift Operator: \n",
    "    The bitwise left shift operator in Python shifts the bits of the binary representation of the input number to the left side by a specified number of places.\n",
    "    The empty bits created by shifting the bits are filled by 0s.  \n",
    "    "
   ]
  },
  {
   "cell_type": "code",
   "execution_count": 19,
   "id": "8ee452b4",
   "metadata": {},
   "outputs": [
    {
     "name": "stdout",
     "output_type": "stream",
     "text": [
      "Operand 1 is: 13\n",
      "operand 2 is: 3\n",
      "Result of the right shift operation on 13 by 3 bits is 1.\n"
     ]
    }
   ],
   "source": [
    "# Right Shift Operator \n",
    "myNum1 = 13\n",
    "myNum2 = 3\n",
    "shiftNum = myNum1 >> myNum2\n",
    "print(\"Operand 1 is:\", myNum1)\n",
    "print(\"operand 2 is:\", myNum2)\n",
    "print(\"Result of the right shift operation on {} by {} bits is {}.\".format(myNum1, myNum2, shiftNum))"
   ]
  },
  {
   "cell_type": "code",
   "execution_count": 20,
   "id": "8cc6f050",
   "metadata": {},
   "outputs": [
    {
     "name": "stdout",
     "output_type": "stream",
     "text": [
      "Operand 1 is: 13\n",
      "operand 2 is: 3\n",
      "Result of the left shift operation on 13 by 3 bits is 104.\n"
     ]
    }
   ],
   "source": [
    "myNum1 = 13\n",
    "myNum2 = 3\n",
    "shiftNum = myNum1 << myNum2\n",
    "print(\"Operand 1 is:\", myNum1)\n",
    "print(\"operand 2 is:\", myNum2)\n",
    "print(\"Result of the left shift operation on {} by {} bits is {}.\".format(myNum1, myNum2, shiftNum))"
   ]
  },
  {
   "cell_type": "code",
   "execution_count": null,
   "id": "a2af97dc",
   "metadata": {},
   "outputs": [],
   "source": [
    "The syntax for the bitwise left shift is a << n. Here ‘a’ is the number whose bits will be shifted by ‘n’ places to the left."
   ]
  },
  {
   "cell_type": "markdown",
   "id": "94c4e89d",
   "metadata": {},
   "source": [
    "Q.5. Create a list containing int type data of length 15. Then write a code to check if 10 is\n",
    "present in the list or not.\n"
   ]
  },
  {
   "cell_type": "code",
   "execution_count": 15,
   "id": "cd3f3993",
   "metadata": {},
   "outputs": [
    {
     "name": "stdout",
     "output_type": "stream",
     "text": [
      "10 is present in list\n"
     ]
    }
   ],
   "source": [
    "list =[i for i in range(0,30,2)]\n",
    "for i in list:\n",
    "    if(i==10):\n",
    "        print(\"10 is present in list\")"
   ]
  },
  {
   "cell_type": "code",
   "execution_count": 13,
   "id": "adb32c3b",
   "metadata": {},
   "outputs": [],
   "source": [
    "if(10 in list):\n",
    "    print(\"10 is present in list\")"
   ]
  },
  {
   "cell_type": "code",
   "execution_count": 16,
   "id": "b6842c95",
   "metadata": {},
   "outputs": [
    {
     "data": {
      "text/plain": [
       "15"
      ]
     },
     "execution_count": 16,
     "metadata": {},
     "output_type": "execute_result"
    }
   ],
   "source": []
  },
  {
   "cell_type": "code",
   "execution_count": null,
   "id": "2d890620",
   "metadata": {},
   "outputs": [],
   "source": []
  }
 ],
 "metadata": {
  "kernelspec": {
   "display_name": "Python 3 (ipykernel)",
   "language": "python",
   "name": "python3"
  },
  "language_info": {
   "codemirror_mode": {
    "name": "ipython",
    "version": 3
   },
   "file_extension": ".py",
   "mimetype": "text/x-python",
   "name": "python",
   "nbconvert_exporter": "python",
   "pygments_lexer": "ipython3",
   "version": "3.9.12"
  }
 },
 "nbformat": 4,
 "nbformat_minor": 5
}
