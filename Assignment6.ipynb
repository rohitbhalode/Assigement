{
 "cells": [
  {
   "cell_type": "markdown",
   "id": "3f845fa9",
   "metadata": {},
   "source": [
    "# Assignment 6\n"
   ]
  },
  {
   "cell_type": "markdown",
   "id": "12440553",
   "metadata": {},
   "source": [
    "Q.1. What are keywords in python? Using the keyword library, print all the python keywords."
   ]
  },
  {
   "cell_type": "markdown",
   "id": "cb6aa38c",
   "metadata": {},
   "source": [
    "Ans : Keyword is python is word which we cant be used as variable or function name and as identifier. Keyword are reserved word."
   ]
  },
  {
   "cell_type": "code",
   "execution_count": 9,
   "id": "ceb30ad0",
   "metadata": {},
   "outputs": [
    {
     "name": "stdout",
     "output_type": "stream",
     "text": [
      "['False', 'None', 'True', '__peg_parser__', 'and', 'as', 'assert', 'async', 'await', 'break', 'class', 'continue', 'def', 'del', 'elif', 'else', 'except', 'finally', 'for', 'from', 'global', 'if', 'import', 'in', 'is', 'lambda', 'nonlocal', 'not', 'or', 'pass', 'raise', 'return', 'try', 'while', 'with', 'yield']\n"
     ]
    }
   ],
   "source": [
    "import keyword\n",
    "print(keyword.kwlist)"
   ]
  },
  {
   "cell_type": "markdown",
   "id": "5b7d204b",
   "metadata": {},
   "source": [
    "Q.2. What are the rules to create variables in python?"
   ]
  },
  {
   "cell_type": "markdown",
   "id": "ff0a6ba6",
   "metadata": {},
   "source": [
    "Ans : Variable consist of all alphabets in upper and lower case both and numerical number and  symbol _ \n",
    "but there is rule for to use this thing\n",
    "1) the first character should not be digit \n",
    "2)Blank space can not be used as variable\n",
    "3)variable name are case-sensitive"
   ]
  },
  {
   "cell_type": "markdown",
   "id": "dfa41c5e",
   "metadata": {},
   "source": [
    "Q.3. What are the standards and conventions followed for the nomenclature of variables in\n",
    "python to improve code readability and maintainability?"
   ]
  },
  {
   "cell_type": "markdown",
   "id": "03cb9a2b",
   "metadata": {},
   "source": [
    "Ans : Function names should be lowercase, with words separated by underscores as necessary to improve readability.\n",
    "Variable names follow the same convention as function names."
   ]
  },
  {
   "cell_type": "markdown",
   "id": "84b50d9a",
   "metadata": {},
   "source": [
    "Q4.What will happen if a keyword is used as a variable name?"
   ]
  },
  {
   "cell_type": "markdown",
   "id": "28d87ba4",
   "metadata": {},
   "source": [
    "Ans : It will produce a syntax error "
   ]
  },
  {
   "cell_type": "code",
   "execution_count": 16,
   "id": "fb9fc979",
   "metadata": {},
   "outputs": [
    {
     "ename": "SyntaxError",
     "evalue": "invalid syntax (2913062459.py, line 2)",
     "output_type": "error",
     "traceback": [
      "\u001b[1;36m  Input \u001b[1;32mIn [16]\u001b[1;36m\u001b[0m\n\u001b[1;33m    as=45\u001b[0m\n\u001b[1;37m    ^\u001b[0m\n\u001b[1;31mSyntaxError\u001b[0m\u001b[1;31m:\u001b[0m invalid syntax\n"
     ]
    }
   ],
   "source": [
    "#for example \n",
    "as=45 # It will produce the syntax error"
   ]
  },
  {
   "cell_type": "markdown",
   "id": "264d2986",
   "metadata": {},
   "source": [
    "Q.5.For what purpose def keyword is used?"
   ]
  },
  {
   "cell_type": "markdown",
   "id": "d5fa06cd",
   "metadata": {},
   "source": [
    "Ans : def keyword is used to defined the user-defined function. It is placed before the function name. "
   ]
  },
  {
   "cell_type": "code",
   "execution_count": 17,
   "id": "f376960c",
   "metadata": {},
   "outputs": [
    {
     "name": "stdout",
     "output_type": "stream",
     "text": [
      "this is my fun1\n"
     ]
    }
   ],
   "source": [
    "# for example \n",
    "def fun1():\n",
    "    print(\"this is my fun1\")\n",
    "fun1()"
   ]
  },
  {
   "cell_type": "markdown",
   "id": "4cb7b8fe",
   "metadata": {},
   "source": [
    "Q.6. What is the operation of this special character ‘\\’?"
   ]
  },
  {
   "cell_type": "markdown",
   "id": "8eef9950",
   "metadata": {},
   "source": [
    "Ans: this ('\\') special character is used to change the line for typing but it will not impact output."
   ]
  },
  {
   "cell_type": "code",
   "execution_count": 20,
   "id": "86a44e1f",
   "metadata": {},
   "outputs": [
    {
     "name": "stdout",
     "output_type": "stream",
     "text": [
      "Hey this Rohit bhalode . Today  i am solving the assignnment\n"
     ]
    }
   ],
   "source": [
    "# for example \n",
    "s=\"Hey this Rohit bhalode . Today  i am solving \" \\\n",
    "  \"the assignnment\"\n",
    "print(s)"
   ]
  },
  {
   "cell_type": "markdown",
   "id": "90ce9512",
   "metadata": {},
   "source": [
    "Q.7. Give an example of the following conditions:\n",
    "(i) Homogeneous list\n",
    "(ii) Heterogeneous set\n",
    "(iii) Homogeneous tuple"
   ]
  },
  {
   "cell_type": "code",
   "execution_count": 26,
   "id": "3eacf77a",
   "metadata": {},
   "outputs": [],
   "source": [
    "# ANS -->\n",
    "# Example of Homogeneous list , Heterogeneous set and Homogeneous tuple\n",
    "# Homogeneous means it contains only the one type of datatype\n",
    "# Heterogeneous means it contains the different type of datatype\n",
    "Homogeneous_list=[1,2,3,4,4,5,3,87]  \n",
    "Heterogeneous_set={2,\"Name\",True}\n",
    "Homogeneous_tuple=(2,3,5,34,38,34)\n"
   ]
  },
  {
   "cell_type": "markdown",
   "id": "f74264f5",
   "metadata": {},
   "source": [
    "Q.8. Explain the mutable and immutable data types with proper explanation & examples."
   ]
  },
  {
   "cell_type": "markdown",
   "id": "4ebf4633",
   "metadata": {},
   "source": [
    "Ans --> \n",
    "Mutable data type --> This type of datatype the values can be change and we can assign new value in this data type\n",
    "Example: list,set,Dictionary \n",
    "\n",
    "Immutable data type --> \n",
    "But in this type data type we can change the value once it set \n",
    "Example : tuple "
   ]
  },
  {
   "cell_type": "code",
   "execution_count": null,
   "id": "213017cf",
   "metadata": {},
   "outputs": [],
   "source": [
    "'''\n",
    "Q.9. Write a code to create the given structure using only for loop.\n",
    "\n",
    "          *\n",
    "         ***\n",
    "        *****\n",
    "       *******\n",
    "      *********\n",
    "'''\n",
    "\n",
    "       \n",
    "         "
   ]
  },
  {
   "cell_type": "code",
   "execution_count": 51,
   "id": "b654d0f5",
   "metadata": {},
   "outputs": [
    {
     "name": "stdout",
     "output_type": "stream",
     "text": [
      "Enter the no of step to do 5\n",
      "    *    \n",
      "   ***   \n",
      "  *****  \n",
      " ******* \n",
      "*********\n"
     ]
    }
   ],
   "source": [
    "user_no=(int)(input(\"Enter the no of step to do \"))\n",
    "col_size=(user_no*2)-1\n",
    "space_size=col_size//2\n",
    "for i in range(1,col_size+1,2):\n",
    "    for j in range(space_size):\n",
    "        print(\" \",end=\"\")\n",
    "    for j in range(i):\n",
    "        print(\"*\",end=\"\")\n",
    "    for j in range(space_size):\n",
    "        print(\" \",end=\"\")\n",
    "    print()\n",
    "    space_size-=1\n",
    "    \n",
    "    \n"
   ]
  },
  {
   "cell_type": "code",
   "execution_count": null,
   "id": "65089924",
   "metadata": {},
   "outputs": [],
   "source": [
    "'''\n",
    "Q.10. Write a code to create the given structure using while loop.\n",
    "|||||||||\n",
    " |||||||\n",
    "  |||||\n",
    "   |||\n",
    "    |\n",
    "'''"
   ]
  },
  {
   "cell_type": "code",
   "execution_count": 26,
   "id": "224c8adf",
   "metadata": {},
   "outputs": [
    {
     "name": "stdout",
     "output_type": "stream",
     "text": [
      "Enter the no of step to do   7\n",
      "|||||||||||||\n",
      " ||||||||||| \n",
      "  |||||||||  \n",
      "   |||||||   \n",
      "    |||||    \n",
      "     |||     \n",
      "      |      \n"
     ]
    }
   ],
   "source": [
    "user_no=(int)(input(\"Enter the no of step to do   \"))\n",
    "col_size=(user_no*2)-1\n",
    "space_size=0\n",
    "space=0\n",
    "while(col_size!=-1):\n",
    "    line=1\n",
    "    sp1=0\n",
    "    while(sp1!=space):\n",
    "        print(\" \",end=\"\")\n",
    "        sp1+=1\n",
    "    sp1=0\n",
    "    while(line-1!=col_size):\n",
    "         print(\"|\",end=\"\")\n",
    "         line+=1 \n",
    "    while(sp1!=space):\n",
    "        print(\" \",end=\"\")\n",
    "        sp1+=1\n",
    "    space+=1\n",
    "    print()\n",
    "    col_size-=2"
   ]
  },
  {
   "cell_type": "code",
   "execution_count": null,
   "id": "47a8a6ec",
   "metadata": {},
   "outputs": [],
   "source": []
  }
 ],
 "metadata": {
  "kernelspec": {
   "display_name": "Python 3 (ipykernel)",
   "language": "python",
   "name": "python3"
  },
  "language_info": {
   "codemirror_mode": {
    "name": "ipython",
    "version": 3
   },
   "file_extension": ".py",
   "mimetype": "text/x-python",
   "name": "python",
   "nbconvert_exporter": "python",
   "pygments_lexer": "ipython3",
   "version": "3.9.12"
  }
 },
 "nbformat": 4,
 "nbformat_minor": 5
}
