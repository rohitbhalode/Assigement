{
 "cells": [
  {
   "cell_type": "markdown",
   "id": "d3c66225",
   "metadata": {},
   "source": [
    "# Assignment-9 (11th June - Python (Functions Assignment) - 1)"
   ]
  },
  {
   "cell_type": "markdown",
   "id": "d2cf6b60",
   "metadata": {},
   "source": [
    "1. What is a lambda function in Python, and how does it differ from a regular function?"
   ]
  },
  {
   "cell_type": "markdown",
   "id": "43b93726",
   "metadata": {},
   "source": [
    "Ans:==> A lambda function is anonymous function small single line function.It is not similar to regular function because in it we dont need to define function and return any value.It is start with lambda keyword and argument is passed with comma separated and after colon calculation are done."
   ]
  },
  {
   "cell_type": "markdown",
   "id": "7f13be00",
   "metadata": {},
   "source": [
    "2. Can a lambda function in Python have multiple arguments? If yes, how can you define and use\n",
    "them?\n",
    "Ans ==> Yes it has multiple argument.this multiple argument are define with comma separated and code written after the colon. Below is example of myltiple argument. "
   ]
  },
  {
   "cell_type": "code",
   "execution_count": 2,
   "id": "062d4a90",
   "metadata": {},
   "outputs": [
    {
     "name": "stdout",
     "output_type": "stream",
     "text": [
      "13\n"
     ]
    }
   ],
   "source": [
    "three_sum= lambda a, b, c: a + b + c\n",
    "print(three_sum(2,5,6))"
   ]
  },
  {
   "cell_type": "markdown",
   "id": "e66ee906",
   "metadata": {},
   "source": [
    "3. How are lambda functions typically used in Python? Provide an example use case.\n",
    "Ans: Lambda function is typically used when we small ,simple and temporary code or we have to convert any variable into some calculated value.This is used in conjunction with higher-order functions such as map(), filter(), and reduce(). Here's an example use case to: "
   ]
  },
  {
   "cell_type": "code",
   "execution_count": 4,
   "id": "5a69b9e8",
   "metadata": {},
   "outputs": [
    {
     "name": "stdout",
     "output_type": "stream",
     "text": [
      "[3, 4, 5, 6, 7]\n"
     ]
    }
   ],
   "source": [
    "l = [1, 2, 3, 4, 5]\n",
    "\n",
    "Add_2inList= list(map(lambda x: x+2, l))\n",
    "print(Add_2inList) \n"
   ]
  },
  {
   "cell_type": "markdown",
   "id": "54a7cbb9",
   "metadata": {},
   "source": [
    "4. What are the advantages and limitations of lambda functions compared to regular functions in\n",
    "Python?\n",
    "\n",
    "Ans: Advantages==>\n",
    "    1) Simple one line compact function.Do not need to define a function name.\n",
    "    2) Anonymous in behaviour as it does have to define formal name and used only once. \n",
    "    3)Allow to work with complex problem with higher order function like map(),filter(),reduce().\n",
    "    4)Readability\n",
    "Limitation:\n",
    "    1)It is temperary function we cannot use it again afterwards.\n",
    "    2)statement like assignment and print are not used in lambda function.\n",
    "    3)Debugging the lambda function is difficult.\n",
    "    4)shortcut thing are there so not easy to understand."
   ]
  },
  {
   "cell_type": "markdown",
   "id": "5d1b44d7",
   "metadata": {},
   "source": [
    "5. Are lambda functions in Python able to access variables defined outside of their own scope?\n",
    "Explain with an example.\n",
    "Ans : ==>\n",
    "Yes, lambda functions in Python are able to access variables defined outside of their own scope.\n",
    "Lambda functions can access variables from the surrounding scope where they are created. This behavior is known as \"lexical scoping\" or \"closure.\""
   ]
  },
  {
   "cell_type": "code",
   "execution_count": 7,
   "id": "c9fc535a",
   "metadata": {},
   "outputs": [
    {
     "name": "stdout",
     "output_type": "stream",
     "text": [
      "7\n"
     ]
    }
   ],
   "source": [
    "def Adding_no(n):\n",
    "    return lambda x:x+n\n",
    "\n",
    "AddingBy2=Adding_no(2)\n",
    "print(AddingBy2(5))"
   ]
  },
  {
   "cell_type": "markdown",
   "id": "1d29d01b",
   "metadata": {},
   "source": [
    "6. Write a lambda function to calculate the square of a given number."
   ]
  },
  {
   "cell_type": "code",
   "execution_count": 8,
   "id": "13f3575f",
   "metadata": {},
   "outputs": [
    {
     "name": "stdout",
     "output_type": "stream",
     "text": [
      "9\n"
     ]
    }
   ],
   "source": [
    "# Square of any number in one line lambda function.\n",
    "squareOfNo=lambda x:x**2\n",
    "print(squareOfNo(3))"
   ]
  },
  {
   "cell_type": "markdown",
   "id": "386549e2",
   "metadata": {},
   "source": [
    "7. Create a lambda function to find the maximum value in a list of integers."
   ]
  },
  {
   "cell_type": "code",
   "execution_count": 17,
   "id": "edaa3c15",
   "metadata": {},
   "outputs": [
    {
     "name": "stdout",
     "output_type": "stream",
     "text": [
      "12\n"
     ]
    }
   ],
   "source": [
    "maxValueList=lambda x:max(x)\n",
    "l=[5,8,3,12,4,9]\n",
    "print(maxValueList(l))"
   ]
  },
  {
   "cell_type": "markdown",
   "id": "7aa02288",
   "metadata": {},
   "source": [
    "8. Implement a lambda function to filter out all the even numbers from a list of integers."
   ]
  },
  {
   "cell_type": "code",
   "execution_count": 23,
   "id": "03133aa8",
   "metadata": {},
   "outputs": [
    {
     "name": "stdout",
     "output_type": "stream",
     "text": [
      "[8, 12, 4]\n"
     ]
    }
   ],
   "source": [
    "# Filtering the list.\n",
    "EvenNumberFilter=list(filter(lambda x: x % 2 == 0, l))\n",
    "print(EvenNumberFilter)"
   ]
  },
  {
   "cell_type": "markdown",
   "id": "7f3d3447",
   "metadata": {},
   "source": [
    "9. Write a lambda function to sort a list of strings in ascending order based on the length of each\n",
    "string."
   ]
  },
  {
   "cell_type": "code",
   "execution_count": 25,
   "id": "46cb8f91",
   "metadata": {},
   "outputs": [
    {
     "name": "stdout",
     "output_type": "stream",
     "text": [
      "['DK', 'Ash', 'Pant', 'Rohit', 'Ashiwini']\n"
     ]
    }
   ],
   "source": [
    "# Sorting using the lamnda key function and length of string.\n",
    "Name = [\"Rohit\", \"Ashiwini\", \"Pant\", \"Ash\", \"DK\"]\n",
    "\n",
    "sorted_list = sorted(Name, key=lambda s: len(s))\n",
    "print(sorted_list)"
   ]
  },
  {
   "cell_type": "markdown",
   "id": "35d3eb8b",
   "metadata": {},
   "source": [
    "10. Create a lambda function that takes two lists as input and returns a new list containing the\n",
    "common elements between the two lists."
   ]
  },
  {
   "cell_type": "code",
   "execution_count": 28,
   "id": "12e03ca3",
   "metadata": {},
   "outputs": [
    {
     "name": "stdout",
     "output_type": "stream",
     "text": [
      "[45, 32, 86]\n"
     ]
    }
   ],
   "source": [
    "# using filter function of lambda the we can the list.\n",
    "l1 = [73,32,45,23,64,86]\n",
    "l2 = [54,45,32,56,86,89,34]\n",
    "\n",
    "same_elements = list(filter(lambda x: x in l1, l2))\n",
    "print(same_elements)\n"
   ]
  },
  {
   "cell_type": "markdown",
   "id": "c0a7054a",
   "metadata": {},
   "source": [
    "11. Write a recursive function to calculate the factorial of a given positive integer."
   ]
  },
  {
   "cell_type": "code",
   "execution_count": 11,
   "id": "8022d957",
   "metadata": {},
   "outputs": [
    {
     "name": "stdout",
     "output_type": "stream",
     "text": [
      "Enter the positive integer -3\n",
      "Please enter the positive integer\n",
      "None\n"
     ]
    }
   ],
   "source": [
    "# Using recursion finding the factorial of positive integer.\n",
    "\n",
    "def factorial(n):\n",
    "    if n<=0:\n",
    "        print(\"Please enter the positive integer\")\n",
    "        return \n",
    "    if(n==1):\n",
    "        return 1\n",
    "    return n*factorial(n-1)\n",
    "\n",
    "# driver code\n",
    "x=int(input(\"Enter the positive integer \"))\n",
    "print(factorial(x))"
   ]
  },
  {
   "cell_type": "markdown",
   "id": "c91757d7",
   "metadata": {},
   "source": [
    "12. Implement a recursive function to compute the nth Fibonacci number."
   ]
  },
  {
   "cell_type": "code",
   "execution_count": 10,
   "id": "5c923969",
   "metadata": {},
   "outputs": [
    {
     "name": "stdout",
     "output_type": "stream",
     "text": [
      "Enter the positive integer -3\n",
      "Please enter the positive integer\n",
      "None\n"
     ]
    }
   ],
   "source": [
    "# Using recursion finding the  nth Fibonacci number of positive integer.\n",
    "def Fibonacci(n):\n",
    "    if n<=0:\n",
    "        print(\"Please enter the positive integer\")\n",
    "        return \n",
    "    if n==1 or n==2:\n",
    "        return 1\n",
    "    return Fibonacci(n-1)+Fibonacci(n-2)\n",
    "\n",
    "\n",
    "x=int(input(\"Enter the positive integer \"))\n",
    "print(Fibonacci(x))"
   ]
  },
  {
   "cell_type": "markdown",
   "id": "b221506f",
   "metadata": {},
   "source": [
    "13. Create a recursive function to find the sum of all the elements in a given list."
   ]
  },
  {
   "cell_type": "code",
   "execution_count": 12,
   "id": "f484ac1c",
   "metadata": {},
   "outputs": [
    {
     "name": "stdout",
     "output_type": "stream",
     "text": [
      "28\n"
     ]
    }
   ],
   "source": [
    "#Sum using recursive function \n",
    "def recursice_sum(l):\n",
    "    if(len(l)==0):\n",
    "        return 0\n",
    "    else:\n",
    "        return l[0]+recursice_sum(l[1:])\n",
    "\n",
    "\n",
    "    \n",
    "    \n",
    "l=[1,2,3,4,5,6,7]\n",
    "print(recursice_sum(l))\n"
   ]
  },
  {
   "cell_type": "markdown",
   "id": "21794233",
   "metadata": {},
   "source": [
    "14. Write a recursive function to determine whether a given string is a palindrome."
   ]
  },
  {
   "cell_type": "code",
   "execution_count": 31,
   "id": "37fa2509",
   "metadata": {},
   "outputs": [
    {
     "name": "stdout",
     "output_type": "stream",
     "text": [
      "False\n"
     ]
    }
   ],
   "source": [
    "def recursive_Palindrome(Strings):\n",
    "    if(len(Strings)==0):\n",
    "        return True \n",
    "    else:\n",
    "        if(Strings[0]==Strings[-1]):\n",
    "            return recursive_Palindrome(Strings[1:-1])\n",
    "        else:\n",
    "            return False\n",
    "print(recursive_Palindrome(\"agba\"))"
   ]
  },
  {
   "cell_type": "markdown",
   "id": "2ee7d7df",
   "metadata": {},
   "source": [
    "15. Implement a recursive function to find the greatest common divisor (GCD) of two positive integers."
   ]
  },
  {
   "cell_type": "code",
   "execution_count": 32,
   "id": "6060930e",
   "metadata": {},
   "outputs": [
    {
     "name": "stdout",
     "output_type": "stream",
     "text": [
      "4\n"
     ]
    }
   ],
   "source": [
    "def gcd(num1, num2):\n",
    "    if num2 == 0:\n",
    "        return num1\n",
    "    else:\n",
    "        return gcd(num2, num1 % num2)\n",
    "\n",
    "\n",
    "result = gcd(12, 16)\n",
    "print(result)\n"
   ]
  }
 ],
 "metadata": {
  "kernelspec": {
   "display_name": "Python 3 (ipykernel)",
   "language": "python",
   "name": "python3"
  },
  "language_info": {
   "codemirror_mode": {
    "name": "ipython",
    "version": 3
   },
   "file_extension": ".py",
   "mimetype": "text/x-python",
   "name": "python",
   "nbconvert_exporter": "python",
   "pygments_lexer": "ipython3",
   "version": "3.9.12"
  }
 },
 "nbformat": 4,
 "nbformat_minor": 5
}
