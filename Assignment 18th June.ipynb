{
 "cells": [
  {
   "cell_type": "markdown",
   "id": "738c8384",
   "metadata": {},
   "source": [
    "# Assignment 18th June"
   ]
  },
  {
   "cell_type": "markdown",
   "id": "5c186b61",
   "metadata": {},
   "source": [
    "1. What is the role of the 'else' block in a try-except statement? Provide an example\n",
    "scenario where it would be useful.\n",
    "\n",
    "Ans: 'else' block in try-except statement work as else for except block.If code does not come to except block then else block will execute. In alernative 'else'  block execute when try block execute otherwise only except block will execute. Here is an example."
   ]
  },
  {
   "cell_type": "code",
   "execution_count": 8,
   "id": "efb19af5",
   "metadata": {},
   "outputs": [
    {
     "name": "stdout",
     "output_type": "stream",
     "text": [
      "Enter the number  1\n",
      "a= 1\n",
      "else block example\n",
      "Here we are in else block is code has been run without error\n"
     ]
    }
   ],
   "source": [
    "try: \n",
    "    a=int(input(\"Enter the number  \"))\n",
    "    print('a=',a)\n",
    "    print(\"else block example\")\n",
    "except Exception:\n",
    "    print(Exception)\n",
    "else:\n",
    "    print(\"Here we are in else block is code has been run without error\")"
   ]
  },
  {
   "cell_type": "markdown",
   "id": "f127857d",
   "metadata": {},
   "source": [
    "2. Can a try-except block be nested inside another try-except block? Explain with an\n",
    "example."
   ]
  },
  {
   "cell_type": "code",
   "execution_count": 7,
   "id": "fea31eab",
   "metadata": {},
   "outputs": [
    {
     "name": "stdout",
     "output_type": "stream",
     "text": [
      "Enter the number 1 4\n",
      "Enter the number 20\n",
      "Error  division by zero\n"
     ]
    }
   ],
   "source": [
    "try:\n",
    "    num1=int(input(\"Enter the number 1 \"))\n",
    "    num2=int(input(\"Enter the number 2\"))\n",
    "    try:\n",
    "        divide=num1/num2\n",
    "        print(\"Calculated value: \",divide)\n",
    "    except ZeroDivisionError as e : \n",
    "        print(\"Error \",e)\n",
    "except Exception as e : \n",
    "    print(e)"
   ]
  },
  {
   "cell_type": "markdown",
   "id": "6502cf70",
   "metadata": {},
   "source": [
    "3. How can you create a custom exception class in Python? Provide an example that\n",
    "demonstrates its usage.\n",
    "\n",
    "Ans: Custom exception can be define by inheriting from the built-in Exception class or any other existing excution class. we can use additional function and attribute to our custom exception.\n",
    "    Raise the custom exception by 'raise' keyword when specific condition error occur. Catching and and handle your custom exception using the try-except block.\n",
    "    \n",
    "    \n",
    "    Here is an Example.\n",
    "    "
   ]
  },
  {
   "cell_type": "code",
   "execution_count": 6,
   "id": "47a8457e",
   "metadata": {},
   "outputs": [
    {
     "name": "stdout",
     "output_type": "stream",
     "text": [
      "CustomException: You are not eligible for playing this U19 Tournament (Error Code :1001)\n",
      "Error Code 1001\n"
     ]
    }
   ],
   "source": [
    "class CustomException(Exception):\n",
    "    def __init__(self,message,error_code):\n",
    "        self.message=message\n",
    "        self.error_code=error_code\n",
    "    def __str__(self):\n",
    "        return f\"CustomException: {self.message} (Error Code :{ self.error_code})\"\n",
    "\n",
    "    \n",
    "def TournamentSelection(age):\n",
    "    if age>20 or age<14:\n",
    "        raise CustomException(\"You are not eligible for playing this U19 Tournament\", 1001)\n",
    "    print(\"Congratulation! You are selected.\")\n",
    "    \n",
    "try:\n",
    "    TournamentSelection(21)\n",
    "except CustomException  as e:\n",
    "    print(str(e))\n",
    "    print(\"Error Code\" , e.error_code)\n",
    "    "
   ]
  },
  {
   "cell_type": "markdown",
   "id": "b0f8ca6c",
   "metadata": {},
   "source": [
    "4. What are some common exceptions that are built-in to Python?"
   ]
  },
  {
   "cell_type": "markdown",
   "id": "f6265472",
   "metadata": {},
   "source": [
    "IndentationError: Raised when there is an incorrect indentation in the code.\n",
    "NameError: Raised when an undefined variable or name is used.\n",
    "TypeError: Raised when an operation or function is applied to an object of inappropriate type.\n",
    "ValueError: Raised when a function receives an argument of the correct type but an inappropriate value.\n",
    "IndexError: Raised when an index is out of range for a sequence (e.g., list or string).\n",
    "KeyError: Raised when a dictionary key is not found.\n",
    "FileNotFoundError: Raised when a file or directory is not found.\n",
    "IOError: Raised when an I/O operation fails (e.g., reading or writing to a file).\n",
    "ZeroDivisionError: Raised when division or modulo operation is performed with zero as the divisor.\n",
    "OverflowError: Raised when a mathematical operation exceeds the maximum representable value.\n",
    "ImportError: Raised when an import statement fails to find or load a module."
   ]
  },
  {
   "cell_type": "markdown",
   "id": "d7f6916e",
   "metadata": {},
   "source": [
    "5. What is logging in Python, and why is it important in software development?\n",
    "\n",
    "Ans logging in a Python is a built in module that provide a flexible and efficient way to record events,messages and errors during the execution of the program.It allow us to generate log records that provide valuable information about the program's behaviour, making it easier to understand and debus issues.logging is important in software development there are several thing which we can do with logging.\n",
    "\n",
    "1)Debugging and troubleshooting\n",
    "2)Monitoring and Analysis\n",
    "3)Auditing and compliance\n",
    "4)Production Support and Maintainance\n",
    "5)Code Understanding and Collaboration."
   ]
  },
  {
   "cell_type": "markdown",
   "id": "b196d67f",
   "metadata": {},
   "source": [
    "6. Explain the purpose of log levels in Python logging and provide examples of when\n",
    "each log level would be appropriate.\n",
    "\n",
    "Ans : Log levels in Python logging provide a way to categorize log messages based on their severity or importance. Each log level represents a different level of detail or urgency, allowing developers to control the verbosity of logging output. \n",
    "\n",
    "1)DEBUG: This log level is used for detailed diagnostic information, typically useful during development and debugging phases. It provides the most detailed information about program execution, variable values, and function calls. \n",
    "\n",
    "2)INFO: The INFO log level is used to convey general information about the program's execution. It's useful for providing high-level updates or milestones during normal operation.\n",
    "\n",
    "3)WARNING: This log level indicates potentially harmful or unexpected situations that do not prevent the program from functioning but may require attention.\n",
    "\n",
    "4)ERROR: The ERROR log level is used to indicate errors that prevented the program from performing a specific operation or caused it to behave abnormally. \n",
    "\n",
    "5)CRITICAL: This log level represents the most severe level of logging. It is used to indicate critical errors or failures that may lead to the program's termination or significant loss of functionality. "
   ]
  },
  {
   "cell_type": "code",
   "execution_count": null,
   "id": "8b5e838a",
   "metadata": {},
   "outputs": [],
   "source": [
    "7. What are log formatters in Python logging, and how can you customise the log\n",
    "message format using formatters?"
   ]
  },
  {
   "cell_type": "code",
   "execution_count": 5,
   "id": "7ef04ac7",
   "metadata": {},
   "outputs": [
    {
     "name": "stderr",
     "output_type": "stream",
     "text": [
      "2023-07-12 12:39:32,723 - DEBUG - Debug message\n",
      "2023-07-12 12:39:32,723 - DEBUG - Debug message\n",
      "2023-07-12 12:39:32,725 - INFO - Info message\n",
      "2023-07-12 12:39:32,725 - INFO - Info message\n",
      "2023-07-12 12:39:32,727 - WARNING - Warning message\n",
      "2023-07-12 12:39:32,727 - WARNING - Warning message\n",
      "2023-07-12 12:39:32,728 - ERROR - Error message\n",
      "2023-07-12 12:39:32,728 - ERROR - Error message\n",
      "2023-07-12 12:39:32,731 - CRITICAL - Critical message\n",
      "2023-07-12 12:39:32,731 - CRITICAL - Critical message\n"
     ]
    }
   ],
   "source": [
    "import logging\n",
    "\n",
    "formatter = logging.Formatter('%(asctime)s - %(levelname)s - %(message)s')\n",
    "\n",
    "handler = logging.StreamHandler()\n",
    "handler.setFormatter(formatter)\n",
    "logger = logging.getLogger('my_logger')\n",
    "logger.addHandler(handler)\n",
    "logger.setLevel(logging.DEBUG) \n",
    "\n",
    "logger.debug('Debug message')\n",
    "logger.info('Info message')\n",
    "logger.warning('Warning message')\n",
    "logger.error('Error message')\n",
    "logger.critical('Critical message')\n"
   ]
  },
  {
   "cell_type": "markdown",
   "id": "d0025a30",
   "metadata": {},
   "source": [
    "8. How can you set up logging to capture log messages from multiple modules or\n",
    "classes in a Python application?"
   ]
  },
  {
   "cell_type": "code",
   "execution_count": 3,
   "id": "e638cb75",
   "metadata": {},
   "outputs": [],
   "source": [
    "import logging\n",
    "formatter = logging.Formatter('%(name)s - %(asctime)s - %(levelname)s - %(message)s')\n",
    "\n",
    "logger = logging.getLogger(__name__)\n",
    "logger.setLevel(logging.DEBUG)\n",
    "\n",
    "handler = logging.StreamHandler()\n",
    "logger.addHandler(handler)\n",
    "handler.setFormatter(formatter)\n",
    "\n",
    "def foo():\n",
    "    logger.debug('Debug message from Module 1')\n",
    "    logger.info('Info message from Module 1')\n",
    "\n",
    "# here when we import our module in different module then in place of __main__ the module name reflect...."
   ]
  },
  {
   "cell_type": "code",
   "execution_count": 4,
   "id": "0ad5f0b7",
   "metadata": {},
   "outputs": [
    {
     "name": "stderr",
     "output_type": "stream",
     "text": [
      "__main__ - 2023-07-12 12:39:29,658 - DEBUG - Debug message from Module 1\n",
      "2023-07-12 12:39:29,658 - DEBUG - Debug message from Module 1\n",
      "__main__ - 2023-07-12 12:39:29,660 - INFO - Info message from Module 1\n",
      "2023-07-12 12:39:29,660 - INFO - Info message from Module 1\n"
     ]
    }
   ],
   "source": [
    "foo()"
   ]
  },
  {
   "cell_type": "markdown",
   "id": "cb53585f",
   "metadata": {},
   "source": [
    "9. What is the difference between the logging and print statements in Python? When\n",
    "should you use logging over print statements in a real-world application?\n",
    "\n",
    "\n",
    "1)Output destination: print statements send output directly to the console, while logging allows configurable output destinations such as console, files, or external logging services.\n",
    "\n",
    "2)Verbosity and control: Logging provides different log levels for controlling verbosity and importance, whereas print statements have limited control over detail and output.\n",
    "\n",
    "3)Information and context: Logging provides detailed information, timestamps, and contextual data for understanding program behavior, while print statements are primarily for immediate debugging or displaying values.\n",
    "\n",
    "4)Runtime overhead: Logging may introduce some runtime overhead due to additional processing and I/O operations, while print statements are lightweight and have minimal impact on performance\n",
    "\n",
    "In real-world applications, it is generally recommended to use logging over print statements because it enhances maintainability, configurability, and flexibility. Logging provides a structured way to capture events, improves code cleanliness, facilitates debugging and troubleshooting, and allows for secure handling of sensitive data."
   ]
  },
  {
   "cell_type": "markdown",
   "id": "88e89002",
   "metadata": {},
   "source": [
    "10. Write a Python program that logs a message to a file named \"app.log\" with the\n",
    "following requirements:\n",
    "\n",
    "\n",
    "● The log message should be \"Hello, World!\"\n",
    "\n",
    "● The log level should be set to \"INFO.\"\n",
    "\n",
    "● The log file should append new log entries without overwriting previous ones."
   ]
  },
  {
   "cell_type": "code",
   "execution_count": 2,
   "id": "f48e3cf8",
   "metadata": {},
   "outputs": [],
   "source": [
    "import logging\n",
    "\n",
    "logging.basicConfig(\n",
    "    filename='app.log',\n",
    "    level=logging.INFO,\n",
    "    format='%(asctime)s - %(levelname)s - %(message)s',\n",
    ")\n",
    "\n",
    "# Log the message\n",
    "logging.info('Hello, World!')\n"
   ]
  },
  {
   "cell_type": "markdown",
   "id": "d3cf8556",
   "metadata": {},
   "source": [
    "11. Create a Python program that logs an error message to the console and a file named\n",
    "\"errors.log\" if an exception occurs during the program's execution. The error\n",
    "message should include the exception type and a timestamp."
   ]
  },
  {
   "cell_type": "code",
   "execution_count": 1,
   "id": "3fc13851",
   "metadata": {},
   "outputs": [
    {
     "name": "stderr",
     "output_type": "stream",
     "text": [
      "2023-07-12 12:38:51,574 - ERROR - Exception occurred\n",
      "Traceback (most recent call last):\n",
      "  File \"C:\\Users\\ASUS\\AppData\\Local\\Temp\\ipykernel_11140\\3325586413.py\", line 15, in <module>\n",
      "    x = 1 / 0\n",
      "ZeroDivisionError: division by zero\n"
     ]
    }
   ],
   "source": [
    "import logging\n",
    "\n",
    "# Configure the logger\n",
    "logging.basicConfig(\n",
    "    level=logging.ERROR,\n",
    "    format='%(asctime)s - %(levelname)s - %(message)s',\n",
    "    handlers=[\n",
    "        logging.StreamHandler(),  # Console output\n",
    "        logging.FileHandler('errors.log'),  # File output\n",
    "    ]\n",
    ")\n",
    "\n",
    "try:\n",
    "    \n",
    "    x = 1 / 0  \n",
    "except Exception as e:\n",
    "    # Log the exception with error level\n",
    "    \n",
    "    logging.error(\"Exception occurred\", exc_info=True)\n"
   ]
  }
 ],
 "metadata": {
  "kernelspec": {
   "display_name": "Python 3 (ipykernel)",
   "language": "python",
   "name": "python3"
  },
  "language_info": {
   "codemirror_mode": {
    "name": "ipython",
    "version": 3
   },
   "file_extension": ".py",
   "mimetype": "text/x-python",
   "name": "python",
   "nbconvert_exporter": "python",
   "pygments_lexer": "ipython3",
   "version": "3.10.9"
  }
 },
 "nbformat": 4,
 "nbformat_minor": 5
}
