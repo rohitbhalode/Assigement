{
 "cells": [
  {
   "cell_type": "markdown",
   "id": "803713d6",
   "metadata": {},
   "source": [
    "#  Assignment-8 (10th June - Python (Functions Assignment) - 1)"
   ]
  },
  {
   "cell_type": "markdown",
   "id": "8936b6a1",
   "metadata": {},
   "source": [
    "1. In Python, what is the difference between a built-in function and a user-defined function? Provide an\n",
    "example of each.\n",
    "Ans ---> The difference between a built-in function and a user-defined function is as the name given that built in function are readymade function which are already available in python module for direct use but user-defined function are function which are created by the programmer for user of logic code again and again in project here is example of i will give lets see.\n",
    "\n"
   ]
  },
  {
   "cell_type": "code",
   "execution_count": 4,
   "id": "ffeacb7a",
   "metadata": {},
   "outputs": [
    {
     "name": "stdout",
     "output_type": "stream",
     "text": [
      "34\n",
      "67\n"
     ]
    }
   ],
   "source": [
    "# Built in function \n",
    "arr=[4,5,3,6,8,34,23,22]\n",
    "# to find the maximum from the array is built in function available in python \n",
    "max_arr=max(arr)\n",
    "print(max_arr)\n",
    "\n",
    "# User defined function\n",
    "# This is function which made by programmer as per his/her need\n",
    "def alternate_odd_position_sum(arr):\n",
    "    s=0\n",
    "    for i in range(1,len(arr),2):\n",
    "        s+=arr[i]\n",
    "    print(s)\n",
    "#driver code\n",
    "arr=arr=[4,5,3,6,8,34,23,22]\n",
    "alternate_odd_position_sum(arr)"
   ]
  },
  {
   "cell_type": "markdown",
   "id": "f4641e3b",
   "metadata": {},
   "source": [
    "2. How can you pass arguments to a function in Python? Explain the difference between positional\n",
    "arguments and keyword arguments.\n",
    "Ans -->\n",
    "\n",
    "The information which we sent through the function calling which is asked by function when function defined is called argument.the difference between positional argument and keyword argument is that \n",
    "\n",
    "1) In positional argument the order of passing the argument is should not changed and otherwise it give the unexpected error.\n",
    "2) In keyword argument, argument are sent through the name of argument so here ordered doesnot matter.\n",
    "\n",
    "For Example :"
   ]
  },
  {
   "cell_type": "code",
   "execution_count": 11,
   "id": "9d29354c",
   "metadata": {},
   "outputs": [
    {
     "name": "stdout",
     "output_type": "stream",
     "text": [
      "Person name is  Rohit\n",
      "He is living in  Burhanpur\n",
      "\n",
      "\n",
      "Person name is  Burhanpur\n",
      "He is living in  Rohit\n"
     ]
    }
   ],
   "source": [
    "# positional argument:\n",
    "def personInfo(name,city):\n",
    "    print(\"Person name is \",name)\n",
    "    print(\"He is living in \",city)\n",
    "\n",
    "    \n",
    "#case 1 (Expected result) when you sent argument in order\n",
    "\n",
    "personInfo(\"Rohit\",\"Burhanpur\")\n",
    "\n",
    "print()\n",
    "\n",
    "#case 2 : (Unexpected result) when you chaged the order of argument\n",
    "print(\"The person name and city is incorrect position \")\n",
    "personInfo(\"Burhanpur\",\"Rohit\")\n",
    "\n"
   ]
  },
  {
   "cell_type": "code",
   "execution_count": 13,
   "id": "9eeb6565",
   "metadata": {},
   "outputs": [
    {
     "name": "stdout",
     "output_type": "stream",
     "text": [
      "Person name is  Rohit\n",
      "He is living in  Burhanpur\n",
      "\n",
      "when you changed the order then also no difference in result\n",
      "\n",
      "Person name is  Rohit\n",
      "He is living in  Burhanpur\n"
     ]
    }
   ],
   "source": [
    "# Keyword argument :\n",
    "def personInfo(name,city):\n",
    "    print(\"Person name is \",name)\n",
    "    print(\"He is living in \",city)\n",
    "    \n",
    "    \n",
    "# case 1 : when you sent argument in order\n",
    "personInfo(name=\"Rohit\",city=\"Burhanpur\")\n",
    "print()\n",
    "\n",
    "print(\"when you changed the order then also no difference in result\")\n",
    "\n",
    "print()\n",
    "#casee 2:\n",
    "\n",
    "personInfo(city=\"Burhanpur\",name=\"Rohit\")"
   ]
  },
  {
   "cell_type": "markdown",
   "id": "e3ec0f69",
   "metadata": {},
   "source": [
    "3. What is the purpose of the return statement in a function? Can a function have multiple return\n",
    "statements? Explain with an example.\n",
    "\n",
    "Ans ==> The purpose of the return statement in a function is just give result back to user after doing some business logical calculation when call function for certain task. \n",
    "        Yes, a function can have multiple return statements but in function only return will excute once. once return come in function after that funtion work is finished  and it will be to main code.\n",
    "        \n",
    "Here is example of multiple return statement."
   ]
  },
  {
   "cell_type": "code",
   "execution_count": 15,
   "id": "fcde3286",
   "metadata": {},
   "outputs": [
    {
     "data": {
      "text/plain": [
       "False"
      ]
     },
     "execution_count": 15,
     "metadata": {},
     "output_type": "execute_result"
    }
   ],
   "source": [
    "# Multiple return statement.\n",
    "\n",
    "def checkeven(num):\n",
    "    if(num%2==0):\n",
    "        return True\n",
    "    return False\n",
    "\n",
    "checkeven(4)\n",
    "# here first return statment and after that function break."
   ]
  },
  {
   "cell_type": "markdown",
   "id": "ab06bb3c",
   "metadata": {},
   "source": [
    "4. What are lambda functions in Python? How are they different from regular functions? Provide an\n",
    "example where a lambda function can be useful.\n",
    "\n",
    "Ans ==> lambda functions in python are one line function anonymous function and they have no name like normal regular function can not called with name. They are usefull for single line function like filtering,sorting ,converting string case etc for example . \n"
   ]
  },
  {
   "cell_type": "code",
   "execution_count": 16,
   "id": "f1891a8c",
   "metadata": {},
   "outputs": [
    {
     "name": "stdout",
     "output_type": "stream",
     "text": [
      "ROHIT\n"
     ]
    }
   ],
   "source": [
    "# lambda function examle used in one line.\n",
    "name = 'rohit'\n",
    "upper = lambda string: string.upper()\n",
    "print(upper(name))\n"
   ]
  },
  {
   "cell_type": "markdown",
   "id": "5c707e1f",
   "metadata": {},
   "source": [
    "5. How does the concept of \"scope\" apply to functions in Python? Explain the difference between local\n",
    "scope and global scope.\n",
    "\n",
    "Ans ==> The variable available inside the region it is creatd is called scope in Python.\n",
    "\n",
    "Local scope : The variable which is created inside any particular function is called local variable and local scope of that function. This variable cant be used outside the function. \n",
    "\n",
    "Global scope: The variable whihc is created in main body of code of python is called global keyword or global scope. Global can be used inside local scope.\n",
    "\n",
    "Example : \n"
   ]
  },
  {
   "cell_type": "code",
   "execution_count": 20,
   "id": "6476c651",
   "metadata": {},
   "outputs": [
    {
     "name": "stdout",
     "output_type": "stream",
     "text": [
      "Rohit\n",
      "200\n",
      "300\n"
     ]
    }
   ],
   "source": [
    "# Local Scope :  Here x is local keyword.\n",
    "def fun():\n",
    "  x = \"Rohit\"\n",
    "  def innerfun():\n",
    "    print(x)\n",
    "  innerfun()\n",
    "\n",
    "fun()\n",
    "\n",
    "#  Global Scope : here x is Global keyword. and we can use it other function also \n",
    "x = 300\n",
    "def fun():\n",
    "  x = 200\n",
    "  print(x)\n",
    "fun()\n",
    "print(x)"
   ]
  },
  {
   "cell_type": "markdown",
   "id": "7b1344ec",
   "metadata": {},
   "source": [
    "6. How can you use the \"return\" statement in a Python function to return multiple values?\n",
    "Ans : In python we use return for returning multiple values from function.  There are various way to return multiple values in python some of them are here we will mention .\n",
    "1)Using Object\n",
    "2)Using Tuple \n",
    "3)Using list\n",
    "4)Using Dictionary \n"
   ]
  },
  {
   "cell_type": "code",
   "execution_count": 35,
   "id": "5cf626d4",
   "metadata": {},
   "outputs": [
    {
     "name": "stdout",
     "output_type": "stream",
     "text": [
      "Using Object:: \n",
      "Rohit\n",
      "20\n",
      "\n",
      "Using tuple: \n",
      "Rohit\n",
      "20\n",
      "\n",
      "Using List: \n",
      "['Rohit', 20]\n",
      "\n",
      "Using Dictionary: \n",
      "{'name': 'Rohit', 'x': 20}\n"
     ]
    }
   ],
   "source": [
    "# Using Object \n",
    "print(\"Using Object:: \")\n",
    "class Test:\n",
    "    def __init__(self):\n",
    "        self.name = \"Rohit\"\n",
    "        self.x = 20  \n",
    "   \n",
    "\n",
    "def fun():\n",
    "    return Test()\n",
    "       \n",
    "# Driver code to test above method\n",
    "t = fun() \n",
    "print(t.name)\n",
    "print(t.x)\n",
    "\n",
    "\n",
    "# Using tuple \n",
    "print()\n",
    "print(\"Using tuple: \")\n",
    "\n",
    "def fun():\n",
    "    name = \"Rohit\"\n",
    "    x = 20\n",
    "    return name, x;  # Return tuple, we could also\n",
    "                    # write (str, x)\n",
    "\n",
    "name, x = fun() # Assign returned tuple\n",
    "print(name)\n",
    "print(x)\n",
    "\n",
    "#Using List\n",
    "print()\n",
    "\n",
    "print(\"Using List: \")\n",
    "\n",
    "# This function returns a list\n",
    "def fun():\n",
    "    name = \"Rohit\"\n",
    "    x = 20  \n",
    "    return [name, x];  \n",
    "   \n",
    "# Driver code to test above method\n",
    "mylist = fun() \n",
    "print(mylist)\n",
    "\n",
    "# Using Dictionary\n",
    "print()\n",
    "print(\"Using Dictionary: \")\n",
    "def fun():\n",
    "    d = dict()\n",
    "    d['name'] = \"Rohit\"\n",
    "    d['x']   = 20\n",
    "    return d\n",
    "   \n",
    "# Driver code to test above method\n",
    "d = fun() \n",
    "print(d)\n"
   ]
  },
  {
   "cell_type": "markdown",
   "id": "349c3dac",
   "metadata": {},
   "source": [
    "Q7-What is the difference between the \"pass by value\" and \"pass by reference\" concepts when it\n",
    "comes to function arguments in Python?\n",
    "Ans ==>\n",
    "Pass by reference :\n",
    "When we pass something by reference any change we make to the variable inside the function then those changes are reflected to the outside value as well.\n",
    "\n",
    "Python pass by value:\n",
    "When we pass something by value then the changes made to the function or copying of the variable are not reflected back to the calling function."
   ]
  },
  {
   "cell_type": "code",
   "execution_count": 51,
   "id": "90eaae2d",
   "metadata": {},
   "outputs": [
    {
     "name": "stdout",
     "output_type": "stream",
     "text": [
      "Inside the function {'Jim': 12, 'Anna': 14, 'Preet': 10, 'Sam': 20, 'Steve': 21}\n",
      "Outside the function: {'Jim': 12, 'Anna': 14, 'Preet': 10, 'Sam': 20, 'Steve': 21}\n",
      "Inside the function {'Sam': 20, 'Steve': 21}\n",
      "Outside the function: {'Jim': 12, 'Anna': 14, 'Preet': 10}\n"
     ]
    }
   ],
   "source": [
    "#Pass by reference\n",
    "student = {'Jim': 12, 'Anna': 14, 'Preet': 10}\n",
    "def test(student):\n",
    "    new = {'Sam':20, 'Steve':21}\n",
    "    student.update(new)\n",
    "    print(\"Inside the function\", student)\n",
    "    return \n",
    "test(student)\n",
    "print(\"Outside the function:\", student)\n",
    "\n",
    "\n",
    "\n",
    "\n",
    "#Pass by value\n",
    "\n",
    "student = {'Jim': 12, 'Anna': 14, 'Preet': 10}\n",
    "def test(student):\n",
    "    student = {'Sam':20, 'Steve':21}\n",
    "    print(\"Inside the function\", student)\n",
    "    return \n",
    "test(student)\n",
    "print(\"Outside the function:\", student)"
   ]
  },
  {
   "cell_type": "markdown",
   "id": "22e4ce28",
   "metadata": {},
   "source": [
    "Q8-Create a function that can intake integer or decimal value and do following operations:\n",
    "\n",
    "a. Logarithmic function (log x)\n",
    "\n",
    "b. Exponential function (exp(x))\n",
    "\n",
    "c. Power function with base 2 (2^x)\n",
    "\n",
    "d. Square root"
   ]
  },
  {
   "cell_type": "code",
   "execution_count": 5,
   "id": "2eba9d32",
   "metadata": {},
   "outputs": [
    {
     "name": "stdout",
     "output_type": "stream",
     "text": [
      "******************Calculate Logarithm of x**************************\n",
      "Logarithm of 100 is with base 100  2.0\n",
      "Logarithm of 16 with base 2 is  4.0\n",
      "\n",
      "******************Calculate Exponential**************************\n",
      "Exponential of 2 is  7.38905609893065\n",
      "Exponential of 0.5 is 1.6487212707001282\n",
      "\n",
      "*****************Calculate Power of 2*****************************\n",
      "3 Power of 2 is 8\n",
      "5 Power of 2 is 32\n",
      "\n",
      "**************** Square Root of x *******************************\n",
      "Square root of 16 is  4.000000000000004\n",
      "Square root of 25 is  5.000000000016778\n"
     ]
    }
   ],
   "source": [
    "#Using creating User defined \n",
    "import math\n",
    "\n",
    "print(\"******************Calculate Logarithm of x**************************\")\n",
    "      \n",
    "def calculate_logarithm(value, base=10):\n",
    "    return math.log(value, base)\n",
    "\n",
    "# Example usage\n",
    "result = calculate_logarithm(100)  \n",
    "print(\"Logarithm of 100 is with base 100 \",result)  \n",
    "\n",
    "result = calculate_logarithm(16, 2)  \n",
    "print(\"Logarithm of 16 with base 2 is \",result)  \n",
    "  \n",
    "print()\n",
    "\n",
    "\n",
    "print(\"******************Calculate Exponential**************************\")\n",
    "def calculate_exponential(x):\n",
    "    return math.exp(x)\n",
    "result = calculate_exponential(2) \n",
    "print(\"Exponential of 2 is \",result)  \n",
    "\n",
    "result = calculate_exponential(0.5)  \n",
    "print(\"Exponential of 0.5 is\",result) \n",
    "\n",
    "      \n",
    "print()\n",
    "print(\"*****************Calculate Power of 2*****************************\")\n",
    "      \n",
    "def calculate_power_of_2(x):\n",
    "    return 1 << x\n",
    "\n",
    "result = calculate_power_of_2(3)  \n",
    "print(\"3 Power of 2 is\",result)  \n",
    "\n",
    "result = calculate_power_of_2(5)  \n",
    "print(\"5 Power of 2 is\",result)  \n",
    "\n",
    "      \n",
    "print()\n",
    "print(\"**************** Square Root of x *******************************\")\n",
    "\n",
    "def calculate_square_root(x):\n",
    "    if x == 0 or x == 1:\n",
    "        return x\n",
    "    guess = x / 2\n",
    "\n",
    "    while True:\n",
    "        new_guess = (guess + x / guess) / 2\n",
    "        if abs(guess - new_guess) < 0.0001:  \n",
    "            return new_guess\n",
    "        guess = new_guess\n",
    "\n",
    "\n",
    "result = calculate_square_root(16)  \n",
    "print(\"Square root of 16 is \" ,result)  \n",
    "\n",
    "result = calculate_square_root(25)  \n",
    "print(\"Square root of 25 is \" , result)  \n",
    "\n",
    "        \n",
    "\n"
   ]
  },
  {
   "cell_type": "markdown",
   "id": "e0f76729",
   "metadata": {},
   "source": [
    "Q9-Create a function that takes a full name as an argument and returns first name and last name.\n"
   ]
  },
  {
   "cell_type": "code",
   "execution_count": 49,
   "id": "4d84a08c",
   "metadata": {},
   "outputs": [
    {
     "name": "stdout",
     "output_type": "stream",
     "text": [
      "First Name:  Rohit\n",
      "Last Name:  Bhalode\n"
     ]
    }
   ],
   "source": [
    "def fname_lname(fullname):\n",
    "    return fullname.split(\" \")\n",
    "    \n",
    "    \n",
    "fullname=\"Rohit Bhalode\"\n",
    "l=fname_lname(fullname)\n",
    "print(\"First Name: \", l[0])\n",
    "print(\"Last Name: \",l[1])\n"
   ]
  },
  {
   "cell_type": "code",
   "execution_count": null,
   "id": "c0996a00",
   "metadata": {},
   "outputs": [],
   "source": []
  }
 ],
 "metadata": {
  "kernelspec": {
   "display_name": "Python 3 (ipykernel)",
   "language": "python",
   "name": "python3"
  },
  "language_info": {
   "codemirror_mode": {
    "name": "ipython",
    "version": 3
   },
   "file_extension": ".py",
   "mimetype": "text/x-python",
   "name": "python",
   "nbconvert_exporter": "python",
   "pygments_lexer": "ipython3",
   "version": "3.9.12"
  }
 },
 "nbformat": 4,
 "nbformat_minor": 5
}
