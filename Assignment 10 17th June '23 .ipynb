{
 "cells": [
  {
   "cell_type": "markdown",
   "id": "c9907f18",
   "metadata": {},
   "source": [
    "# Assignment 10 17th June '23 \n",
    "\n"
   ]
  },
  {
   "cell_type": "markdown",
   "id": "e8e0b5f7",
   "metadata": {},
   "source": [
    "1. What is the role of try and exception block?\n",
    "Ans ==> try and exception block are used to handle runtime error when it occur when we compile code there are various type of error that can occure when we compile code.\n",
    "        When we use try and exception block our code error will handled and further logic will compile as it they will not disturb.\n",
    "        \n",
    "try: In try block we write code which has possiblity of getting the error.\n",
    "except : Here we handle the error of code if the error occur it will be handle and other code will run smoothly.\n",
    "\n",
    "for example :\n"
   ]
  },
  {
   "cell_type": "code",
   "execution_count": 7,
   "id": "9f5f1579",
   "metadata": {},
   "outputs": [
    {
     "name": "stdout",
     "output_type": "stream",
     "text": [
      "Enter the value  d\n",
      "fsdf\n"
     ]
    }
   ],
   "source": [
    "try:\n",
    "    x=int(input(\"Enter the value  \"))\n",
    "    print(x)\n",
    "except :\n",
    "    print(\"Error\")"
   ]
  },
  {
   "cell_type": "markdown",
   "id": "ff39e036",
   "metadata": {},
   "source": [
    "2. What is the syntax for a basic try-except block?"
   ]
  },
  {
   "cell_type": "code",
   "execution_count": 8,
   "id": "3aaf9cec",
   "metadata": {},
   "outputs": [
    {
     "name": "stdout",
     "output_type": "stream",
     "text": [
      "we are in try block\n"
     ]
    }
   ],
   "source": [
    "#Here is basic structure of try-except block.\n",
    "try: \n",
    "    # In this block we write the code which has possibility of obtaining the error\n",
    "    print(\"we are in try block\")\n",
    "except:\n",
    "    # if the error occured in the code of try block then it will redirect to here and this block will compile\n",
    "    print(\"Error occured \")"
   ]
  },
  {
   "cell_type": "markdown",
   "id": "1a229435",
   "metadata": {},
   "source": [
    "3. What happens if an exception occurs inside a try block and there is no matching\n",
    "except block?\n",
    "\n",
    "Ans ==> If an exception occures inside a try block and there is no matching except block then it will give and runtime error.Here is example i have given where I handle IndexError and Memory Error but not handle valueError so it gave the exception. "
   ]
  },
  {
   "cell_type": "code",
   "execution_count": 15,
   "id": "81e6bcae",
   "metadata": {},
   "outputs": [
    {
     "name": "stdout",
     "output_type": "stream",
     "text": [
      "Enter the value  fds\n"
     ]
    },
    {
     "ename": "ValueError",
     "evalue": "invalid literal for int() with base 10: 'fds'",
     "output_type": "error",
     "traceback": [
      "\u001b[1;31m---------------------------------------------------------------------------\u001b[0m",
      "\u001b[1;31mValueError\u001b[0m                                Traceback (most recent call last)",
      "Input \u001b[1;32mIn [15]\u001b[0m, in \u001b[0;36m<cell line: 1>\u001b[1;34m()\u001b[0m\n\u001b[0;32m      1\u001b[0m \u001b[38;5;28;01mtry\u001b[39;00m:\n\u001b[1;32m----> 2\u001b[0m     x\u001b[38;5;241m=\u001b[39m\u001b[38;5;28;43mint\u001b[39;49m\u001b[43m(\u001b[49m\u001b[38;5;28;43minput\u001b[39;49m\u001b[43m(\u001b[49m\u001b[38;5;124;43m\"\u001b[39;49m\u001b[38;5;124;43mEnter the value  \u001b[39;49m\u001b[38;5;124;43m\"\u001b[39;49m\u001b[43m)\u001b[49m\u001b[43m)\u001b[49m\n\u001b[0;32m      3\u001b[0m     \u001b[38;5;28mprint\u001b[39m(x)\n\u001b[0;32m      4\u001b[0m \u001b[38;5;28;01mexcept\u001b[39;00m \u001b[38;5;167;01mIndexError\u001b[39;00m:\n",
      "\u001b[1;31mValueError\u001b[0m: invalid literal for int() with base 10: 'fds'"
     ]
    }
   ],
   "source": [
    "try:\n",
    "    x=int(input(\"Enter the value  \"))\n",
    "    print(x)\n",
    "except IndexError:\n",
    "    print(\"Index Error\")\n",
    "except MemoryError:\n",
    "    print(\"Memory Error\")"
   ]
  },
  {
   "cell_type": "markdown",
   "id": "a088eed3",
   "metadata": {},
   "source": [
    "4. What is the difference between using a bare except block and specifying a specific\n",
    "exception type?\n",
    "Ans==>\n",
    "\n",
    "Bare except block : A bare except block generel type or catch all type of error except block. It treat all the type of error with same type. The main advantage of this is any error occur in try block are handle without any specific known of error. \n",
    "    But the drawback of this is that for debugger its make difficult that which type of error it has obtain because it does not  give the information regarding the specific error.\n",
    "   \n",
    "specific excetion :Like the name has give in this exception block the specific type of error are handle of try block but here the drawback is the if any other error occured then it will not handle and that will give error to code but here debugger can know which type of error produced by try block."
   ]
  },
  {
   "cell_type": "code",
   "execution_count": 19,
   "id": "0c61eeeb",
   "metadata": {},
   "outputs": [
    {
     "name": "stdout",
     "output_type": "stream",
     "text": [
      "Enter the value  f\n",
      "Error\n",
      "Enter the value  fd\n",
      "Value Error\n"
     ]
    }
   ],
   "source": [
    "#Bare except Block :\n",
    "try:\n",
    "    x=int(input(\"Enter the value  \"))\n",
    "    print(x)\n",
    "except :\n",
    "    print(\"Error\")\n",
    "\n",
    "\n",
    "\n",
    "\n",
    "# Specific Type of exception block : \n",
    "try:\n",
    "    x=int(input(\"Enter the value  \"))\n",
    "    print(x)\n",
    "except ValueError:\n",
    "    print(\"Value Error\")"
   ]
  },
  {
   "cell_type": "markdown",
   "id": "ee4bc6db",
   "metadata": {},
   "source": [
    "5. Can you have nested try-except blocks in Python? If yes, then give an example.\n",
    "\n",
    "Ans ==> Yes"
   ]
  },
  {
   "cell_type": "code",
   "execution_count": 24,
   "id": "37310d66",
   "metadata": {},
   "outputs": [
    {
     "name": "stdout",
     "output_type": "stream",
     "text": [
      "Enter the Numerator number:  fdfds\n",
      "Error occured in outer try block\n"
     ]
    }
   ],
   "source": [
    "# Nested try-except blocks in python :\n",
    "try:\n",
    "    x=int(input(\"Enter the Numerator number:  \"))\n",
    "    y=int(input(\"Enter the denominator number:  \"))\n",
    "    try: \n",
    "        calculation=x/y\n",
    "        print(x/y)\n",
    "    except:\n",
    "        print(\"Error occured in Nested or inner try block\")\n",
    "except ValueError:\n",
    "    print(\"Error occured in outer try block\")"
   ]
  },
  {
   "cell_type": "markdown",
   "id": "e7157c50",
   "metadata": {},
   "source": [
    "6. Can we use multiple exception blocks, if yes then give an example.\n",
    "Ans ==> Yes\n"
   ]
  },
  {
   "cell_type": "code",
   "execution_count": 21,
   "id": "c6a1f1fc",
   "metadata": {},
   "outputs": [
    {
     "name": "stdout",
     "output_type": "stream",
     "text": [
      "Enter the number1 5\n",
      "Enter the number2 3\n",
      "1.6666666666666667\n",
      "Code has runned fine\n",
      "Enter the value  fdf\n",
      "Some Error occured.\n"
     ]
    }
   ],
   "source": [
    "#Example 1\n",
    "try: \n",
    "    x=int(input(\"Enter the number1 \"))\n",
    "    y=int(input(\"Enter the number2 \"))\n",
    "    divide_calculation=x/y\n",
    "    print(divide_calculation)\n",
    "except ValueError:\n",
    "    print(\"You have enter wrong value\")\n",
    "except ZeroDivisionError: \n",
    "    print(\"Cant divide by zero\")\n",
    "except Exception: \n",
    "    print(\"Some other occured\")\n",
    "else:\n",
    "    print(\"Code has runned fine\")\n",
    "    \n",
    "    \n",
    "#######################################################################3\n",
    " # Example 2\n",
    "    \n",
    "l=[0,43,53]\n",
    "try:\n",
    "    x=int(input(\"Enter the value  \"))\n",
    "    print(x)\n",
    "    print(l[4]) # if of put the correct index here and try to put any other non numeric value on x then it will give the last block of except.\n",
    "except IndexError:\n",
    "    print(\"Index Error\")\n",
    "except MemoryError:\n",
    "    print(\"Memory Error\")\n",
    "except Exception:\n",
    "    print(\"Some Error occured.\")\n",
    "else:\n",
    "    print(\"Everything is fine\")\n",
    "   "
   ]
  },
  {
   "cell_type": "markdown",
   "id": "1e1d5a0f",
   "metadata": {},
   "source": [
    "7. Write the reason due to which following errors are raised:\n",
    "\n",
    "a. EOFError  : The EOFError typically occurs when reading from files or when reading user input interactively from the console. It indicates that the input stream has reached its end unexpectedly.\n",
    "\n",
    "b. FloatingPointError: Floating-point errors can occur in Python due to the inherent limitations of representing real numbers with finite precision\n",
    "\n",
    "c. IndexError : When the index of array or list is out bound or element is called of position which does not exist in list or array is called IndexError.\n",
    "\n",
    "d. MemoryError : A MemoryError means that the interpreter has run out of memory to allocate to your Python program\n",
    "\n",
    "e. OverflowError: when the result value obtained is larger than the limted value assigned for that result.\n",
    "\n",
    "f. TabError: If we mix tab and space in indetation so tab error occur.\n",
    "\n",
    "g. ValueError: ValueError in Python is raised when a user gives an invalid value to a function but is of a valid argument."
   ]
  },
  {
   "cell_type": "code",
   "execution_count": 24,
   "id": "2e6cf268",
   "metadata": {},
   "outputs": [
    {
     "name": "stdout",
     "output_type": "stream",
     "text": [
      "enter\n",
      "T invalid literal for int() with base 10: ''\n"
     ]
    }
   ],
   "source": [
    "try:\n",
    "    x=int(input(\"enter\"))\n",
    "except Exception as e:\n",
    "    print(\"T\",e)"
   ]
  },
  {
   "cell_type": "markdown",
   "id": "0af4417b",
   "metadata": {},
   "source": [
    "8. Write code for the following given scenario and add try-exception block to it.\n",
    "\n",
    "a. Program to divide two numbers\n",
    "\n",
    "b. Program to convert a string to an integer\n",
    "\n",
    "c. Program to access an element in a list\n",
    "\n",
    "d. Program to handle a specific exception\n",
    "\n",
    "e. Program to handle any exception"
   ]
  },
  {
   "cell_type": "code",
   "execution_count": null,
   "id": "982ee7dc",
   "metadata": {},
   "outputs": [],
   "source": [
    "#Program to divide two numbers\n",
    "try: \n",
    "    x=int(input(\"Enter the number1 \"))\n",
    "    y=int(input(\"Enter the number2 \"))\n",
    "    divide_calculation=x/y\n",
    "    print(divide_calculation)\n",
    "except ValueError:\n",
    "    print(\"You have enter wrong value\")\n",
    "except ZeroDivisionError: \n",
    "    print(\"Cant divide by zero\")\n",
    "except Exception: \n",
    "    print(\"Some other occured\")\n",
    "else:\n",
    "    print(\"Code has runned fine\")"
   ]
  },
  {
   "cell_type": "code",
   "execution_count": 13,
   "id": "2fe9facc",
   "metadata": {},
   "outputs": [
    {
     "name": "stdout",
     "output_type": "stream",
     "text": [
      "Enter the number34\n",
      "<class 'str'>\n"
     ]
    }
   ],
   "source": [
    "# Program to convert a string to an integer\n",
    "try:\n",
    "    x=input(\"Enter the number\")\n",
    "    print(type(x))\n",
    "    x=int(x)\n",
    "except ValueError:\n",
    "    print(\"You have enter wrong value which cant make into number \")\n",
    "    "
   ]
  },
  {
   "cell_type": "code",
   "execution_count": 16,
   "id": "c1846baf",
   "metadata": {},
   "outputs": [
    {
     "name": "stdout",
     "output_type": "stream",
     "text": [
      "You have entered the wrong index\n"
     ]
    }
   ],
   "source": [
    "# Program to access an element in a list\n",
    "l=[2,4,5,45,6]\n",
    "try:\n",
    "    x=l[5]\n",
    "except IndexError:\n",
    "    print(\"You have entered the wrong index\")"
   ]
  },
  {
   "cell_type": "code",
   "execution_count": 17,
   "id": "38f49270",
   "metadata": {},
   "outputs": [
    {
     "name": "stdout",
     "output_type": "stream",
     "text": [
      "You have entered the wrong index\n"
     ]
    }
   ],
   "source": [
    "#Program to handle a specific exception(Index out of bound error is specific type of error)\n",
    "l=[2,4,5,45,6]\n",
    "try:\n",
    "    x=l[5]\n",
    "except IndexError:\n",
    "    print(\"You have entered the wrong index\")"
   ]
  },
  {
   "cell_type": "code",
   "execution_count": 20,
   "id": "95c8136e",
   "metadata": {},
   "outputs": [
    {
     "name": "stdout",
     "output_type": "stream",
     "text": [
      "This is try block\n"
     ]
    }
   ],
   "source": [
    "#Program to handle any exception\n",
    "try:\n",
    "    print(\"This is try block\")\n",
    "except Exception as e:\n",
    "    print(\"this is except block which can handle any type of error\")\n",
    "    print(e)"
   ]
  }
 ],
 "metadata": {
  "kernelspec": {
   "display_name": "Python 3 (ipykernel)",
   "language": "python",
   "name": "python3"
  },
  "language_info": {
   "codemirror_mode": {
    "name": "ipython",
    "version": 3
   },
   "file_extension": ".py",
   "mimetype": "text/x-python",
   "name": "python",
   "nbconvert_exporter": "python",
   "pygments_lexer": "ipython3",
   "version": "3.9.12"
  }
 },
 "nbformat": 4,
 "nbformat_minor": 5
}
